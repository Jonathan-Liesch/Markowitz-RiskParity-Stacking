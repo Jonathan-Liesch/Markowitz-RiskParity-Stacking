{
 "cells": [
  {
   "cell_type": "markdown",
   "metadata": {},
   "source": [
    "# Math 164 Project"
   ]
  },
  {
   "cell_type": "markdown",
   "metadata": {},
   "source": [
    "#### By Jonathan Liesch 704958918"
   ]
  },
  {
   "cell_type": "markdown",
   "metadata": {},
   "source": [
    "## Solving Markowitz using Stacking"
   ]
  },
  {
   "cell_type": "markdown",
   "metadata": {},
   "source": [
    "In Breiman’s paper, he states is this method for stacking gives consistently good results:"
   ]
  },
  {
   "attachments": {
    "stacking.PNG": {
     "image/png": "[encoded data removed]"
    }
   },
   "cell_type": "markdown",
   "metadata": {},
   "source": [
    "![stacking.PNG](attachment:stacking.PNG)"
   ]
  },
  {
   "attachments": {
    "stacking2.PNG": {
     "image/png": "[encoded data removed]"
    }
   },
   "cell_type": "markdown",
   "metadata": {},
   "source": [
    "![stacking2.PNG](attachment:stacking2.PNG)"
   ]
  },
  {
   "cell_type": "markdown",
   "metadata": {},
   "source": [
    "This can be solved using least squares."
   ]
  },
  {
   "cell_type": "markdown",
   "metadata": {},
   "source": [
    "### Solving using Least Squares"
   ]
  },
  {
   "cell_type": "markdown",
   "metadata": {},
   "source": [
    "The desired monthly return in 1.4951%."
   ]
  },
  {
   "cell_type": "code",
   "execution_count": 17,
   "metadata": {},
   "outputs": [
    {
     "name": "stdout",
     "output_type": "stream",
     "text": [
      "[0.4322291  0.62075537]\n"
     ]
    }
   ],
   "source": [
    "import pandas as pd\n",
    "import numpy as np\n",
    "import matplotlib.pyplot as plt\n",
    "\n",
    "ebay = pd.read_csv(\"C:/Stacking/EBAY.csv\")\n",
    "nvs = pd.read_csv(\"C:/Stacking/NVS.csv\")\n",
    "ebay = ebay[['Date', 'Adj Close']]\n",
    "nvs = nvs[['Date', 'Adj Close']]\n",
    "\n",
    "ebayReturns = []\n",
    "nvsReturns = []\n",
    "\n",
    "for i in range(len(ebay.index)-1):\n",
    "    ebay_ret = (ebay.at[i+1,'Adj Close']/ebay.at[i,'Adj Close']) - 1\n",
    "    ebayReturns.append(ebay_ret)\n",
    "\n",
    "    nvs_ret = (nvs.at[i + 1, 'Adj Close'] / nvs.at[i, 'Adj Close']) - 1\n",
    "    nvsReturns.append(nvs_ret)\n",
    "\n",
    "ebay = ebay.drop(index =0, columns = ['Adj Close'] )\n",
    "ebay['EBAY'] = ebayReturns\n",
    "ebay_ret = ebay['EBAY'].values\n",
    "\n",
    "nvs = nvs.drop(index = 0, columns = ['Adj Close'])\n",
    "nvs['NVS'] = nvsReturns\n",
    "nvs_ret = nvs['NVS'].values\n",
    "\n",
    "v1 = ebay_ret\n",
    "v2 = nvs_ret\n",
    "\n",
    "p_ret = 0.014941\n",
    "\n",
    "b = np.full(120, p_ret)\n",
    "\n",
    "Z_list = []\n",
    "for i in range(120):\n",
    "    v1n = np.delete(v1, i)\n",
    "    v2n = np.delete(v2, i)\n",
    "\n",
    "    z1n = np.mean(v1n)\n",
    "    z2n = np.mean(v2n)\n",
    "    z = [z1n, z2n]\n",
    "    Z_list.append(z)\n",
    "\n",
    "Z = np.asarray(Z_list)\n",
    "\n",
    "LS = np.matmul(Z.T,Z)\n",
    "LS_inv = np.linalg.inv(LS)\n",
    "LS_b = np.matmul(Z.T, b)\n",
    "\n",
    "weights = np.matmul(LS_inv,LS_b)\n",
    "print(weights)"
   ]
  },
  {
   "cell_type": "markdown",
   "metadata": {},
   "source": [
    "There is one issue with this method. The weights do not sum up to 1! Thus this variant of stacking would not be feasible for Markowitz."
   ]
  },
  {
   "cell_type": "code",
   "execution_count": 6,
   "metadata": {},
   "outputs": [
    {
     "name": "stdout",
     "output_type": "stream",
     "text": [
      "1.0529844692326833\n"
     ]
    }
   ],
   "source": [
    "print(np.sum(weights))"
   ]
  },
  {
   "cell_type": "markdown",
   "metadata": {},
   "source": [
    "## Solving using Lagragian Multipliers (Better)"
   ]
  },
  {
   "cell_type": "code",
   "execution_count": 9,
   "metadata": {},
   "outputs": [
    {
     "name": "stdout",
     "output_type": "stream",
     "text": [
      "[0.50000456 0.49999544]\n",
      "Sum: 1.0000000000000004\n"
     ]
    }
   ],
   "source": [
    "import pandas as pd\n",
    "import numpy as np\n",
    "import matplotlib.pyplot as plt\n",
    "\n",
    "ebay = pd.read_csv(\"C:/Stacking/EBAY.csv\")\n",
    "nvs = pd.read_csv(\"C:/Stacking/NVS.csv\")\n",
    "ebay = ebay[['Date', 'Adj Close']]\n",
    "nvs = nvs[['Date', 'Adj Close']]\n",
    "\n",
    "ebayReturns = []\n",
    "nvsReturns = []\n",
    "\n",
    "for i in range(len(ebay.index)-1):\n",
    "    ebay_ret = (ebay.at[i+1,'Adj Close']/ebay.at[i,'Adj Close']) - 1\n",
    "    ebayReturns.append(ebay_ret)\n",
    "\n",
    "    nvs_ret = (nvs.at[i + 1, 'Adj Close'] / nvs.at[i, 'Adj Close']) - 1\n",
    "    nvsReturns.append(nvs_ret)\n",
    "\n",
    "ebay = ebay.drop(index =0, columns = ['Adj Close'] )\n",
    "ebay['EBAY'] = ebayReturns\n",
    "ebay_ret = ebay['EBAY'].values\n",
    "\n",
    "nvs = nvs.drop(index = 0, columns = ['Adj Close'])\n",
    "nvs['NVS'] = nvsReturns\n",
    "nvs_ret = nvs['NVS'].values\n",
    "\n",
    "v1 = ebay_ret\n",
    "v2 = nvs_ret\n",
    "\n",
    "avg_ret = [np.mean(v1), np.mean(v2)]\n",
    "\n",
    "alpha = np.asarray(avg_ret)\n",
    "\n",
    "p_ret = 0.014941\n",
    "\n",
    "sigma = np.cov(v1,v2)\n",
    "s_inv = np.linalg.inv(sigma)\n",
    "a = np.matmul(alpha.T, np.matmul(s_inv, alpha))\n",
    "one_m = np.full(2,1)\n",
    "b = np.matmul(alpha.T, np.matmul(s_inv, one_m))\n",
    "c = np.matmul(one_m.T, np.matmul(s_inv, one_m))\n",
    "\n",
    "mat = np.array([[a, b],[b,c]])\n",
    "mat_inv = np.linalg.inv(mat)\n",
    "y = np.array([[p_ret, 1]])\n",
    "\n",
    "L_mult = np.matmul(y, mat_inv)\n",
    "\n",
    "weights = L_mult[0,0] * np.matmul(s_inv, alpha) + L_mult[0,1] * np.matmul(s_inv, one_m)\n",
    "\n",
    "print(weights)\n",
    "print('Sum:', np.sum(weights))"
   ]
  },
  {
   "cell_type": "markdown",
   "metadata": {},
   "source": [
    "Since the weights sum to one, this is clearly an applicable to Markowitz over the non-negativity way proposed by Breiman."
   ]
  },
  {
   "cell_type": "markdown",
   "metadata": {},
   "source": [
    "# Solving Risk-Parity using Stacking"
   ]
  },
  {
   "cell_type": "markdown",
   "metadata": {},
   "source": [
    "To try to solve the stacking problem with the added contraint of summing the weights to one, Breiman found:"
   ]
  },
  {
   "attachments": {
    "Stacking3.PNG": {
     "image/png": "[encoded data removed]"
    }
   },
   "cell_type": "markdown",
   "metadata": {},
   "source": [
    "![Stacking3.PNG](attachment:Stacking3.PNG)"
   ]
  },
  {
   "cell_type": "markdown",
   "metadata": {},
   "source": [
    "Thus the weights would minimize with the added one sum contraint:"
   ]
  },
  {
   "attachments": {
    "stacking4.PNG": {
     "image/png": "[encoded data removed]"
    }
   },
   "cell_type": "markdown",
   "metadata": {},
   "source": [
    "![stacking4.PNG](attachment:stacking4.PNG)"
   ]
  },
  {
   "cell_type": "markdown",
   "metadata": {},
   "source": [
    "This happens to be very convienent to solving for the weights for Risk-Parity."
   ]
  },
  {
   "cell_type": "markdown",
   "metadata": {},
   "source": [
    "It should be noted that cross-validation data is not used to determine the weights. Thus, it is more different than an added contraint to the stacking problem we did for the Markowitz Selection."
   ]
  },
  {
   "cell_type": "code",
   "execution_count": 19,
   "metadata": {},
   "outputs": [
    {
     "name": "stdout",
     "output_type": "stream",
     "text": [
      "Optimization terminated successfully.    (Exit mode 0)\n",
      "            Current function value: 0.00021040177503019284\n",
      "            Iterations: 1\n",
      "            Function evaluations: 4\n",
      "            Gradient evaluations: 1\n",
      "[[0.5 0.5]]\n"
     ]
    }
   ],
   "source": [
    "import pandas as pd\n",
    "import numpy as np\n",
    "from matplotlib import pyplot as plt\n",
    "from numpy.linalg import inv,pinv\n",
    "from scipy.optimize import minimize\n",
    "\n",
    "\n",
    "ebay = pd.read_csv(\"C:/Stacking/EBAY.csv\")\n",
    "nvs = pd.read_csv(\"C:/Stacking/NVS.csv\")\n",
    "ebay = ebay[['Date', 'Adj Close']]\n",
    "nvs = nvs[['Date', 'Adj Close']]\n",
    "\n",
    "ebayReturns = []\n",
    "nvsReturns = []\n",
    "\n",
    "for i in range(len(ebay.index)-1):\n",
    "    ebay_ret = (ebay.at[i+1,'Adj Close']/ebay.at[i,'Adj Close']) - 1\n",
    "    ebayReturns.append(ebay_ret)\n",
    "\n",
    "    nvs_ret = (nvs.at[i + 1, 'Adj Close'] / nvs.at[i, 'Adj Close']) - 1\n",
    "    nvsReturns.append(nvs_ret)\n",
    "\n",
    "ebay = ebay.drop(index =0, columns = ['Adj Close'] )\n",
    "ebay['EBAY'] = ebayReturns\n",
    "ebay_ret = ebay['EBAY'].values\n",
    "\n",
    "nvs = nvs.drop(index = 0, columns = ['Adj Close'])\n",
    "nvs['NVS'] = nvsReturns\n",
    "nvs_ret = nvs['NVS'].values\n",
    "\n",
    "v1 = ebay_ret\n",
    "v2 = nvs_ret\n",
    "\n",
    "V = np.cov(v1,v2)\n",
    "\n",
    "w0 = [0.5,0.5]\n",
    "x_t = [0.5, 0.5]\n",
    "\n",
    "def risk_budget_objective(x,pars):\n",
    "    # calculate portfolio risk\n",
    "    V = pars[0]# covariance table\n",
    "    x_t = pars[1] # risk target in percent of portfolio risk\n",
    "\n",
    "    w = np.matrix(x_t)\n",
    "    port_var = (w * V * w.T)[0, 0]\n",
    "\n",
    "    sigma =  np.sqrt(port_var) # portfolio sigma\n",
    "    desired_risk = np.asmatrix(np.multiply(sigma,x_t))\n",
    "    MRC = V * w.T\n",
    "    RC = np.multiply(MRC, w.T) / sigma\n",
    "\n",
    "    J = sum(np.square(RC-desired_risk.T))[0,0] # sum of squared error\n",
    "    return J\n",
    "\n",
    "def one_sum(x):\n",
    "    return np.sum(x)-1.0\n",
    "\n",
    "def nonnegativity(x):\n",
    "    return x\n",
    "\n",
    "constraints = ({'type': 'eq', 'fun': one_sum},\n",
    "{'type': 'ineq', 'fun': nonnegativity})\n",
    "res= minimize(risk_budget_objective, w0, args=[V,x_t], method='SLSQP',constraints=constraints, options={'disp': True})\n",
    "w_rb = np.asmatrix(res.x)\n",
    "print(w_rb)"
   ]
  },
  {
   "cell_type": "markdown",
   "metadata": {},
   "source": [
    "As you can see we got the desired equal risk contribution of 0.5."
   ]
  }
 ],
 "metadata": {
  "kernelspec": {
   "display_name": "Python 3",
   "language": "python",
   "name": "python3"
  },
  "language_info": {
   "codemirror_mode": {
    "name": "ipython",
    "version": 3
   },
   "file_extension": ".py",
   "mimetype": "text/x-python",
   "name": "python",
   "nbconvert_exporter": "python",
   "pygments_lexer": "ipython3",
   "version": "3.6.7"
  }
 },
 "nbformat": 4,
 "nbformat_minor": 2
}
